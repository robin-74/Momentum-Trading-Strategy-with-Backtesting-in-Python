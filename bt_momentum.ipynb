{
 "cells": [
  {
   "cell_type": "code",
   "execution_count": 1,
   "id": "03b86b81-8a53-414f-add3-2850fb6a4f8d",
   "metadata": {
    "editable": true,
    "slideshow": {
     "slide_type": ""
    },
    "tags": []
   },
   "outputs": [],
   "source": [
    "import pandas as pd\n",
    "import numpy as np\n",
    "import matplotlib.pyplot\n",
    "import yfinance as yf"
   ]
  },
  {
   "cell_type": "code",
   "execution_count": 105,
   "id": "3c8542ec-44eb-4f51-80fc-b94931dea53e",
   "metadata": {},
   "outputs": [],
   "source": [
    "import yfinance as yf\n",
    "import numpy as np\n",
    "import pandas as pd\n",
    "import matplotlib.pyplot as plt\n",
    "\n",
    "class Momentum:\n",
    "    def __init__(self, symbol, start, end, window=3):\n",
    "        self.symbol = symbol\n",
    "        self.start = start\n",
    "        self.end = end\n",
    "        self.window = window\n",
    "        self.getData()\n",
    "        self.createPositions()\n",
    "        \n",
    "    def getData(self):\n",
    "        df = yf.download(self.symbol, start=self.start, end=self.end)\n",
    "        df.drop(columns=[\"High\", \"Open\", \"Low\", \"Volume\",\"Adj Close\"], inplace=True)\n",
    "        df.rename(columns={\"Close\": \"price\"}, inplace=True)\n",
    "        self.data = df.copy()\n",
    "        \n",
    "    def createPositions(self, window=None):\n",
    "        if window is None:\n",
    "            window = self.window\n",
    "\n",
    "        self.data[\"l_returns\"] = np.log(self.data[\"price\"] / self.data[\"price\"].shift(1))\n",
    "        self.data[\"rolling_mean\"] = self.data[\"l_returns\"].rolling(window).mean()\n",
    "        self.data.dropna(subset=[\"l_returns\", \"rolling_mean\"], inplace=True)\n",
    "        \n",
    "        self.data[\"position\"] = -np.sign(self.data[\"rolling_mean\"])\n",
    "        self.data[\"strategy\"] = self.data[\"position\"].shift(1) * self.data[\"l_returns\"]\n",
    "        self.data.dropna(subset=[\"strategy\"], inplace=True)\n",
    "        \n",
    "        self.data[\"creturns\"] = self.data[\"l_returns\"].cumsum().apply(np.exp)\n",
    "        self.data[\"cstrategy\"] = self.data[\"strategy\"].cumsum().apply(np.exp)\n",
    "        \n",
    "        self.data.drop(columns=[\"rolling_mean\"], inplace=True)\n",
    "\n",
    "        # Ensure there is data to return\n",
    "        if self.data[\"cstrategy\"].empty:\n",
    "            return None\n",
    "        \n",
    "        return self.data[\"cstrategy\"].iloc[-1]\n",
    "\n",
    "    def findOptimalWindow(self, min_window=2, max_window=20):\n",
    "        best_window = min_window\n",
    "        best_return = -np.inf\n",
    "        \n",
    "        for window in range(min_window, max_window + 1):\n",
    "            strategy_return = self.createPositions(window=window)\n",
    "            \n",
    "            # Handle the case where strategy_return is None\n",
    "            if strategy_return is None:\n",
    "                continue\n",
    "            \n",
    "            if strategy_return > best_return:\n",
    "                best_return = strategy_return\n",
    "                best_window = window\n",
    "        \n",
    "        print(f\"Optimal window size is {best_window} with a return of ${best_return:.2f}\")\n",
    "        self.getResultDeference()\n",
    "        return best_window\n",
    "\n",
    "    def getResultDeference(self):\n",
    "        buy_and_hold_return = self.data[\"creturns\"].iloc[-1]\n",
    "        strategy_return = self.data[\"cstrategy\"].iloc[-1]\n",
    "        print(f\"Result of our buy and hold is ${buy_and_hold_return:.2f}\")\n",
    "        print(f\"Strategy return is ${strategy_return:.2f}\")\n",
    "        \n",
    "    def plotResults(self):\n",
    "        plt.figure(figsize=(14, 7))\n",
    "        plt.plot(self.data.index, self.data[\"creturns\"], label='Buy and Hold Returns')\n",
    "        plt.plot(self.data.index, self.data[\"cstrategy\"], label='Strategy Returns')\n",
    "        plt.title('Cumulative Returns vs. Strategy Returns')\n",
    "        plt.xlabel('Date')\n",
    "        plt.ylabel('Cumulative Returns')\n",
    "        plt.legend()\n",
    "        plt.grid(True)\n",
    "        plt.show()\n",
    "        self.getResultDeference()\n",
    "    \n",
    "    def __repr__(self):\n",
    "        return f\"<Momentum(symbol={self.symbol}, start={self.start}, end={self.end}, window={self.window})>\"\n",
    "\n",
    "    def __str__(self):\n",
    "        return f\"Momentum Strategy Results:\\n{self.data.tail()}\"\n"
   ]
  },
  {
   "cell_type": "code",
   "execution_count": 107,
   "id": "fdfbd236-d618-4529-b6d1-1258cc1e1f1a",
   "metadata": {},
   "outputs": [
    {
     "name": "stderr",
     "output_type": "stream",
     "text": [
      "[*********************100%%**********************]  1 of 1 completed"
     ]
    },
    {
     "name": "stdout",
     "output_type": "stream",
     "text": [
      "Momentum Strategy Results:\n",
      "                price  l_returns  position  strategy  creturns  cstrategy\n",
      "Date                                                                     \n",
      "2019-10-25  61.645000   0.012241      -1.0 -0.012241  1.375544   0.707362\n",
      "2019-10-28  62.262501   0.009967      -1.0 -0.009967  1.389323   0.700346\n",
      "2019-10-29  60.822498  -0.023400      -1.0  0.023400  1.357191   0.716927\n",
      "2019-10-30  60.814999  -0.000123      -1.0  0.000123  1.357023   0.717016\n",
      "2019-10-31  62.189999   0.022358      -1.0 -0.022358  1.387705   0.701163\n",
      "Result of our buy and hold is $1.39\n",
      "Strategy return is $0.70\n",
      "None\n",
      "Optimal window size is 2 with a return of $1.75\n",
      "Result of our buy and hold is $1.46\n",
      "Strategy return is $0.74\n"
     ]
    },
    {
     "name": "stderr",
     "output_type": "stream",
     "text": [
      "\n"
     ]
    },
    {
     "data": {
      "text/plain": [
       "2"
      ]
     },
     "execution_count": 107,
     "metadata": {},
     "output_type": "execute_result"
    }
   ],
   "source": [
    "test = Momentum(\"AAPL\",\"2018-01-01\",\"2019-11-01\",5)\n",
    "#print(test)\n",
    "test.createPositions()\n",
    "print(test)\n",
    "print(test.getResultDeference())\n",
    "test.findOptimalWindow()"
   ]
  },
  {
   "cell_type": "code",
   "execution_count": null,
   "id": "45431f1e-94c8-4087-845c-5fe5ea7bfd7a",
   "metadata": {},
   "outputs": [],
   "source": []
  }
 ],
 "metadata": {
  "kernelspec": {
   "display_name": "Python 3 (ipykernel)",
   "language": "python",
   "name": "python3"
  },
  "language_info": {
   "codemirror_mode": {
    "name": "ipython",
    "version": 3
   },
   "file_extension": ".py",
   "mimetype": "text/x-python",
   "name": "python",
   "nbconvert_exporter": "python",
   "pygments_lexer": "ipython3",
   "version": "3.11.7"
  }
 },
 "nbformat": 4,
 "nbformat_minor": 5
}
